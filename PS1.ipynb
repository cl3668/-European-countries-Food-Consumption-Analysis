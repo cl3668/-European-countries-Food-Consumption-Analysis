{
 "cells": [
  {
   "cell_type": "code",
   "execution_count": 1,
   "id": "07ce801d",
   "metadata": {},
   "outputs": [
    {
     "data": {
      "text/plain": [
       "'\\nINAFU6503: Applying Machine Learning\\nProblem Set 1: Clustering\\nProfessor Daniel Bjorkegren\\nColumbia University\\n\\nThis file is a version of PS1 with more guidance. If you find the following\\nstencil code to be too easy to solve the problems and would like a bit more\\nchallenge, please use the \"protein_starter.py\".\\n\\nThroughout this file, complete where it says \"TODO\" appropriately to execute\\nyour tasks.\\n'"
      ]
     },
     "execution_count": 1,
     "metadata": {},
     "output_type": "execute_result"
    }
   ],
   "source": [
    "\"\"\"\n",
    "INAFU6503: Applying Machine Learning\n",
    "Problem Set 1: Clustering\n",
    "Professor Daniel Bjorkegren\n",
    "Columbia University\n",
    "\n",
    "This file is a version of PS1 with more guidance. If you find the following\n",
    "stencil code to be too easy to solve the problems and would like a bit more\n",
    "challenge, please use the \"protein_starter.py\".\n",
    "\n",
    "Throughout this file, complete where it says \"TODO\" appropriately to execute\n",
    "your tasks.\n",
    "\"\"\"\n"
   ]
  },
  {
   "cell_type": "code",
   "execution_count": 2,
   "id": "9725d72f",
   "metadata": {},
   "outputs": [],
   "source": [
    "import numpy as np\n",
    "import csv"
   ]
  },
  {
   "cell_type": "code",
   "execution_count": 3,
   "id": "6cf4057d",
   "metadata": {},
   "outputs": [],
   "source": [
    "# ------------------ Initialize variables ---------------------\n",
    "all_countries = []\n",
    "X = []\n",
    "\n",
    "# change your protein values accordingly if necessary\n",
    "proteins = [\"RedMeat\", \"WhiteMeat\", \"Eggs\", \"Milk\"]\n"
   ]
  },
  {
   "cell_type": "code",
   "execution_count": 4,
   "id": "975283e8",
   "metadata": {},
   "outputs": [],
   "source": [
    "# ------------------- READ IN DATA ----------------------------------\n",
    "with open(\"protein.csv\", \"rt\", encoding=\"utf8\") as data_file:\n",
    "    reader = csv.reader(data_file)\n",
    "    headers = [header.strip() for header in next(reader)]\n",
    "\n",
    "    dictReader = csv.DictReader(data_file, fieldnames=headers)\n",
    "\n",
    "    for dRow in dictReader:\n",
    "        all_countries.append(dRow[\"Country\"])\n",
    "        X.append([float(dRow[pro]) for pro in proteins])\n",
    "\n",
    "all_countries = np.array(all_countries)\n",
    "X = np.array(X)\n",
    "N = len(X)\n",
    "X_raw = X\n",
    "X = X[:, :2]"
   ]
  },
  {
   "cell_type": "code",
   "execution_count": 5,
   "id": "2009507d",
   "metadata": {},
   "outputs": [
    {
     "data": {
      "text/plain": [
       "array([[10.1,  1.4],\n",
       "       [ 8.9, 14. ],\n",
       "       [13.5,  9.3],\n",
       "       [ 7.8,  6. ],\n",
       "       [ 9.7, 11.4],\n",
       "       [10.6, 10.8],\n",
       "       [ 8.4, 11.6],\n",
       "       [ 9.5,  4.9],\n",
       "       [18. ,  9.9],\n",
       "       [10.2,  3. ],\n",
       "       [ 5.3, 12.4],\n",
       "       [13.9, 10. ],\n",
       "       [ 9. ,  5.1],\n",
       "       [ 9.5, 13.6],\n",
       "       [ 9.4,  4.7],\n",
       "       [ 6.9, 10.2],\n",
       "       [ 6.2,  3.7],\n",
       "       [ 6.2,  6.3],\n",
       "       [ 7.1,  3.4],\n",
       "       [ 9.9,  7.8],\n",
       "       [13.1, 10.1],\n",
       "       [17.4,  5.7],\n",
       "       [ 9.3,  4.6],\n",
       "       [11.4, 12.5],\n",
       "       [ 4.4,  5. ]])"
      ]
     },
     "execution_count": 5,
     "metadata": {},
     "output_type": "execute_result"
    }
   ],
   "source": [
    "X"
   ]
  },
  {
   "cell_type": "code",
   "execution_count": 5,
   "id": "72931a72",
   "metadata": {},
   "outputs": [],
   "source": [
    "def distance(A, B):\n",
    "    return np.sum((A - B) ** 2)"
   ]
  },
  {
   "cell_type": "code",
   "execution_count": 6,
   "id": "4c2cfba2",
   "metadata": {},
   "outputs": [
    {
     "name": "stdout",
     "output_type": "stream",
     "text": [
      "Final Centroids:\n",
      "[[10.7         4.2       ]\n",
      " [ 6.34        4.88      ]\n",
      " [10.7        11.04615385]]\n"
     ]
    }
   ],
   "source": [
    "# K =3\n",
    "# ------------------ K MEANS CLUSTERING ------------------------------\n",
    "K = 3\n",
    "\n",
    "\n",
    "# for each observation `i`, you should record which cluster is assigned to `i`\n",
    "# in this array.\n",
    "\n",
    "# set initial centroids\n",
    "centroids = np.random.rand(K, X.shape[1]) *  (np.max(X, axis=0) - np.min(X, axis=0)) + np.min(X, axis=0) \n",
    "cluster_labels = np.zeros(N, int)\n",
    "\n",
    "\n",
    "# Looping the following until convergence (the loss declines less than the tolerance)\n",
    "loss_difference_tolerance = 0.1\n",
    "loss_difference = np.inf\n",
    "loss_previous = np.inf\n",
    "\n",
    "\n",
    "while loss_difference > loss_difference_tolerance:\n",
    "\n",
    "    \n",
    "    for i in range(N):\n",
    "        distances = [distance(X[i], centroid) for centroid in centroids]\n",
    "        cluster_labels[i] = np.argmin(distances)\n",
    "        \n",
    "    # Update centroids based on the mean of each feature in the cluster\n",
    "    new_centroids = np.array([np.mean(X[cluster_labels == k], axis=0) for k in range(K)])\n",
    "        \n",
    "    loss = 0\n",
    "    for k in range(K):\n",
    "        A = 0\n",
    "        cluster_points = X[cluster_labels == k]\n",
    "        for p in cluster_points:\n",
    "            A +=  distance(p, centroids[k])\n",
    "        loss += len(cluster_points) * A\n",
    "\n",
    "\n",
    "    loss_difference = np.abs(loss - loss_previous)\n",
    "    loss_previous = loss\n",
    "    \n",
    "    centroids = new_centroids \n",
    "\n",
    "# Print or use the final centroids\n",
    "print(\"Final Centroids:\")\n",
    "print(centroids)\n",
    "\n",
    "\n",
    "# [TODO: check: do your results depend on the initial cluster draws? Also,\n",
    "# do you end up with K clusters exactly, or less? if your answer is \"yes\" to\n",
    "# any of the questions, how should you adjust the algorithm?]\n",
    "\n",
    "# [TODO: if you'd like to test different values of K instead of just K = 3,\n",
    "# how should you re-organize your algorithm? Hint: loops?]\n"
   ]
  },
  {
   "cell_type": "code",
   "execution_count": 9,
   "id": "64786ee6",
   "metadata": {},
   "outputs": [
    {
     "name": "stdout",
     "output_type": "stream",
     "text": [
      "Final Centroids for K=1:\n",
      "[[9.828 7.896]]\n",
      "Final Centroids for K=2:\n",
      "[[ 8.30555556  8.22222222]\n",
      " [13.74285714  7.05714286]]\n",
      "Final Centroids for K=3:\n",
      "[[ 8.25833333  4.65833333]\n",
      " [ 8.8375     12.0625    ]\n",
      " [15.18        9.        ]]\n",
      "Final Centroids for K=4:\n",
      "[[ 8.10909091  4.37272727]\n",
      " [17.7         7.8       ]\n",
      " [ 8.8375     12.0625    ]\n",
      " [12.6         9.3       ]]\n",
      "Final Centroids for K=5:\n",
      "[[  nan   nan]\n",
      " [9.828 7.896]\n",
      " [  nan   nan]\n",
      " [  nan   nan]\n",
      " [  nan   nan]]\n",
      "Final Centroids for K=6:\n",
      "[[ 6.34   4.88 ]\n",
      " [10.4   10.625]\n",
      " [10.15   2.2  ]\n",
      " [ 7.8   12.36 ]\n",
      " [15.18   9.   ]\n",
      " [ 9.3    4.825]]\n",
      "Final Centroids for K=7:\n",
      "[[ 9.58333333  3.95      ]\n",
      " [13.5         9.8       ]\n",
      " [17.4         5.7       ]\n",
      " [ 9.11428571 12.32857143]\n",
      " [18.          9.9       ]\n",
      " [ 5.9         4.03333333]\n",
      " [ 7.7         7.575     ]]\n",
      "Final Centroids for K=8:\n",
      "[[10.1         1.4       ]\n",
      " [12.5        10.54      ]\n",
      " [ 9.          5.06      ]\n",
      " [ 5.975       4.6       ]\n",
      " [17.7         7.8       ]\n",
      " [ 9.9         7.8       ]\n",
      " [ 8.11666667 12.2       ]\n",
      " [10.2         3.        ]]\n",
      "Final Centroids for K=9:\n",
      "[[ 6.9        10.2       ]\n",
      " [13.5         9.8       ]\n",
      " [ 9.15        5.51666667]\n",
      " [ 5.975       4.6       ]\n",
      " [ 9.75       12.31666667]\n",
      " [10.15        2.2       ]\n",
      " [17.4         5.7       ]\n",
      " [ 5.3        12.4       ]\n",
      " [18.          9.9       ]]\n",
      "Final Centroids for K=10:\n",
      "[[9.828 7.896]\n",
      " [  nan   nan]\n",
      " [  nan   nan]\n",
      " [  nan   nan]\n",
      " [  nan   nan]\n",
      " [  nan   nan]\n",
      " [  nan   nan]\n",
      " [  nan   nan]\n",
      " [  nan   nan]\n",
      " [  nan   nan]]\n"
     ]
    },
    {
     "data": {
      "image/png": "[encoded data removed]",
      "text/plain": [
       "<Figure size 640x480 with 1 Axes>"
      ]
     },
     "metadata": {},
     "output_type": "display_data"
    }
   ],
   "source": [
    "# K with a range\n",
    "import matplotlib.pyplot as plt\n",
    "\n",
    "# Assuming you have defined your distance function and other variables\n",
    "\n",
    "# Determine the range of K values to test\n",
    "k_range = range(1, 11)\n",
    "\n",
    "# Initialize an array to store the Within-Cluster Point Scatter (WCPS) for each K\n",
    "wcps_values = []\n",
    "\n",
    "for K in k_range:\n",
    "    # set initial centroids\n",
    "    centroids = np.random.rand(K, X.shape[1]) * (np.max(X, axis=0) - np.min(X, axis=0)) + np.min(X, axis=0)\n",
    "    \n",
    "    cluster_labels = np.zeros(N, int)\n",
    "    loss_difference_tolerance = 0.1\n",
    "    loss_difference = np.inf\n",
    "    loss_previous = np.inf\n",
    "\n",
    "    while loss_difference > loss_difference_tolerance:\n",
    "        for i in range(N):\n",
    "            distances = [distance(X[i], centroid) for centroid in centroids]\n",
    "            cluster_labels[i] = np.argmin(distances)\n",
    "\n",
    "        new_centroids = np.array([np.mean(X[cluster_labels == k], axis=0) for k in range(K)])\n",
    "\n",
    "        loss = 0\n",
    "        for k in range(K):\n",
    "            A = 0\n",
    "            cluster_points = X[cluster_labels == k]\n",
    "            for p in cluster_points:\n",
    "                A += distance(p, centroids[k])\n",
    "            loss += len(cluster_points) * A\n",
    "\n",
    "        loss_difference = np.abs(loss - loss_previous)\n",
    "        loss_previous = loss\n",
    "\n",
    "        centroids = new_centroids\n",
    "\n",
    "    # Calculate WCPS for the current K\n",
    "    wcps = 0\n",
    "    for k in range(K):\n",
    "        cluster_points = X[cluster_labels == k]\n",
    "        wcps += np.sum([distance(p, centroids[k]) for p in cluster_points])\n",
    "\n",
    "    # Store the WCPS for the current K\n",
    "    wcps_values.append(wcps)\n",
    "\n",
    "    # Print or use the final centroids\n",
    "    print(f\"Final Centroids for K={K}:\")\n",
    "    print(centroids)\n",
    "\n",
    "# Plot the WCPS as K increases\n",
    "plt.plot(k_range, wcps_values, marker='o')\n",
    "plt.xlabel('Number of Clusters (K)')\n",
    "plt.ylabel('Within-Cluster Point Scatter (WCPS)')\n",
    "plt.title('WCPS Variation as K Increases')\n",
    "plt.show()\n"
   ]
  },
  {
   "cell_type": "code",
   "execution_count": 10,
   "id": "66a4a216",
   "metadata": {},
   "outputs": [
    {
     "name": "stdout",
     "output_type": "stream",
     "text": [
      "Countries in Cluster 1:\n",
      "['Belgium', 'France', 'Ireland', 'Switzerland', 'UK']\n",
      "Countries in Cluster 2:\n",
      "['Austria', 'Czechoslovakia', 'Denmark', 'E Germany', 'Hungary', 'Netherlands', 'Poland', 'W Germany']\n",
      "Countries in Cluster 3:\n",
      "['Albania', 'Finland', 'Greece', 'Italy', 'Norway', 'Sweden', 'USSR']\n",
      "Countries in Cluster 4:\n",
      "['Bulgaria', 'Portugal', 'Romania', 'Spain', 'Yugoslavia']\n"
     ]
    }
   ],
   "source": [
    "# prefer 4 clusters\n",
    "# Convert Final_Centroids to a NumPy array\n",
    "Final_Centroids = np.array([[15.18, 9.0],\n",
    "                            [8.8375, 12.0625],\n",
    "                            [9.62857143, 4.5],\n",
    "                            [6.34, 4.88]])\n",
    "\n",
    "# Assign each data point to the nearest centroid\n",
    "cluster_labels = np.argmin(np.array([np.sum((X - centroid) ** 2, axis=1) for centroid in Final_Centroids]), axis=0)\n",
    "\n",
    "# Initialize a list to store countries for each cluster\n",
    "cluster_countries = [[] for _ in range(Final_Centroids.shape[0])]\n",
    "\n",
    "# Populate the cluster_countries list\n",
    "for i, country in enumerate(all_countries):\n",
    "    cluster_countries[cluster_labels[i]].append(country)\n",
    "\n",
    "# Print the cluster countries for K=4\n",
    "for k, countries in enumerate(cluster_countries):\n",
    "    print(f'Countries in Cluster {k + 1}:')\n",
    "    print(countries)"
   ]
  },
  {
   "cell_type": "code",
   "execution_count": 13,
   "id": "312f10d5",
   "metadata": {},
   "outputs": [
    {
     "data": {
      "text/plain": [
       "array([[10.1,  1.4,  0.5,  8.9],\n",
       "       [ 8.9, 14. ,  4.3, 19.9],\n",
       "       [13.5,  9.3,  4.1, 17.5],\n",
       "       [ 7.8,  6. ,  1.6,  8.3],\n",
       "       [ 9.7, 11.4,  2.8, 12.5],\n",
       "       [10.6, 10.8,  3.7, 25. ],\n",
       "       [ 8.4, 11.6,  3.7, 11.1],\n",
       "       [ 9.5,  4.9,  2.7, 33.7],\n",
       "       [18. ,  9.9,  3.3, 19.5],\n",
       "       [10.2,  3. ,  2.8, 17.6],\n",
       "       [ 5.3, 12.4,  2.9,  9.7],\n",
       "       [13.9, 10. ,  4.7, 25.8],\n",
       "       [ 9. ,  5.1,  2.9, 13.7],\n",
       "       [ 9.5, 13.6,  3.6, 23.4],\n",
       "       [ 9.4,  4.7,  2.7, 23.3],\n",
       "       [ 6.9, 10.2,  2.7, 19.3],\n",
       "       [ 6.2,  3.7,  1.1,  4.9],\n",
       "       [ 6.2,  6.3,  1.5, 11.1],\n",
       "       [ 7.1,  3.4,  3.1,  8.6],\n",
       "       [ 9.9,  7.8,  3.5, 24.7],\n",
       "       [13.1, 10.1,  3.1, 23.8],\n",
       "       [17.4,  5.7,  4.7, 20.6],\n",
       "       [ 9.3,  4.6,  2.1, 16.6],\n",
       "       [11.4, 12.5,  4.1, 18.8],\n",
       "       [ 4.4,  5. ,  1.2,  9.5]])"
      ]
     },
     "execution_count": 13,
     "metadata": {},
     "output_type": "execute_result"
    }
   ],
   "source": [
    "X_raw"
   ]
  },
  {
   "cell_type": "code",
   "execution_count": 21,
   "id": "65cdda2f",
   "metadata": {},
   "outputs": [
    {
     "data": {
      "text/plain": [
       "array([15.9, 20.1, 20.9, 22.2, 23.7, 25.1, 30.3, 30.7, 32.6, 33.6, 34.8,\n",
       "       36.4, 39.1, 40.1, 44.4, 45.9, 46.8, 47.1, 48.4, 50.1, 50.1, 50.1,\n",
       "       50.7, 50.8, 54.4])"
      ]
     },
     "execution_count": 21,
     "metadata": {},
     "output_type": "execute_result"
    }
   ],
   "source": [
    "sums = np.sum(X_raw, axis=1)\n",
    "np.sort(sums)"
   ]
  },
  {
   "cell_type": "code",
   "execution_count": 11,
   "id": "75f9c7b8",
   "metadata": {},
   "outputs": [],
   "source": [
    "# full data\n",
    "X = X_raw"
   ]
  },
  {
   "cell_type": "code",
   "execution_count": 12,
   "id": "3cb3b252",
   "metadata": {},
   "outputs": [
    {
     "name": "stdout",
     "output_type": "stream",
     "text": [
      "Final Centroids for K=1:\n",
      "[[ 9.828  7.896  2.936 17.112]]\n",
      "Final Centroids for K=2:\n",
      "[[ 7.80833333  6.15833333  2.18333333 11.04166667]\n",
      " [11.69230769  9.5         3.63076923 22.71538462]]\n",
      "Final Centroids for K=3:\n",
      "[[ 7.24444444  6.8         2.04444444  9.4       ]\n",
      " [ 8.96        5.52        2.64       18.1       ]\n",
      " [12.33636364  9.87272727  3.8        22.97272727]]\n",
      "Final Centroids for K=4:\n",
      "[[ 9.98571429  9.28571429  3.27142857 17.45714286]\n",
      " [15.6         8.925       3.95       22.425     ]\n",
      " [ 9.78        8.36        3.24       26.02      ]\n",
      " [ 7.16666667  6.1         2.05555556  9.53333333]]\n",
      "Final Centroids for K=5:\n",
      "[[   nan    nan    nan    nan]\n",
      " [   nan    nan    nan    nan]\n",
      " [ 9.828  7.896  2.936 17.112]\n",
      " [   nan    nan    nan    nan]\n",
      " [   nan    nan    nan    nan]]\n",
      "Final Centroids for K=6:\n",
      "[[11.7         7.45        3.7        29.75      ]\n",
      " [16.3         8.3         4.03333333 19.2       ]\n",
      " [ 7.8        11.8         3.13333333 11.1       ]\n",
      " [ 7.25714286  4.41428571  1.7         9.28571429]\n",
      " [10.04285714 11.28571429  3.57142857 22.12857143]\n",
      " [ 9.63333333  4.1         2.53333333 19.16666667]]\n",
      "Final Centroids for K=7:\n",
      "[[ 7.8        11.8         3.13333333 11.1       ]\n",
      " [ 6.96666667  4.3         1.5         8.55      ]\n",
      " [ 9.5         4.23333333  2.6        15.96666667]\n",
      " [ 9.65        6.25        3.1        24.        ]\n",
      " [10.61428571 11.6         3.74285714 22.28571429]\n",
      " [ 9.5         4.9         2.7        33.7       ]\n",
      " [16.3         8.3         4.03333333 19.2       ]]\n",
      "Final Centroids for K=8:\n",
      "[[   nan    nan    nan    nan]\n",
      " [   nan    nan    nan    nan]\n",
      " [ 9.828  7.896  2.936 17.112]\n",
      " [   nan    nan    nan    nan]\n",
      " [   nan    nan    nan    nan]\n",
      " [   nan    nan    nan    nan]\n",
      " [   nan    nan    nan    nan]\n",
      " [   nan    nan    nan    nan]]\n",
      "Final Centroids for K=9:\n",
      "[[   nan    nan    nan    nan]\n",
      " [ 9.828  7.896  2.936 17.112]\n",
      " [   nan    nan    nan    nan]\n",
      " [   nan    nan    nan    nan]\n",
      " [   nan    nan    nan    nan]\n",
      " [   nan    nan    nan    nan]\n",
      " [   nan    nan    nan    nan]\n",
      " [   nan    nan    nan    nan]\n",
      " [   nan    nan    nan    nan]]\n",
      "Final Centroids for K=10:\n",
      "[[ 9.828  7.896  2.936 17.112]\n",
      " [   nan    nan    nan    nan]\n",
      " [   nan    nan    nan    nan]\n",
      " [   nan    nan    nan    nan]\n",
      " [   nan    nan    nan    nan]\n",
      " [   nan    nan    nan    nan]\n",
      " [   nan    nan    nan    nan]\n",
      " [   nan    nan    nan    nan]\n",
      " [   nan    nan    nan    nan]\n",
      " [   nan    nan    nan    nan]]\n"
     ]
    },
    {
     "data": {
      "image/png": "[encoded data removed]",
      "text/plain": [
       "<Figure size 640x480 with 1 Axes>"
      ]
     },
     "metadata": {},
     "output_type": "display_data"
    }
   ],
   "source": [
    "k_range = range(1, 11)\n",
    "\n",
    "# Initialize an array to store the Within-Cluster Point Scatter (WCPS) for each K\n",
    "wcps_values = []\n",
    "\n",
    "for K in k_range:\n",
    "    # set initial centroids\n",
    "    centroids = np.random.rand(K, X.shape[1]) * (np.max(X, axis=0) - np.min(X, axis=0)) + np.min(X, axis=0)\n",
    "    \n",
    "    cluster_labels = np.zeros(N, int)\n",
    "    loss_difference_tolerance = 0.1\n",
    "    loss_difference = np.inf\n",
    "    loss_previous = np.inf\n",
    "\n",
    "    while loss_difference > loss_difference_tolerance:\n",
    "        for i in range(N):\n",
    "            distances = [distance(X[i], centroid) for centroid in centroids]\n",
    "            cluster_labels[i] = np.argmin(distances)\n",
    "\n",
    "        new_centroids = np.array([np.mean(X[cluster_labels == k], axis=0) for k in range(K)])\n",
    "\n",
    "        loss = 0\n",
    "        for k in range(K):\n",
    "            A = 0\n",
    "            cluster_points = X[cluster_labels == k]\n",
    "            for p in cluster_points:\n",
    "                A += distance(p, centroids[k])\n",
    "            loss += len(cluster_points) * A\n",
    "\n",
    "        loss_difference = np.abs(loss - loss_previous)\n",
    "        loss_previous = loss\n",
    "\n",
    "        centroids = new_centroids\n",
    "\n",
    "    # Calculate WCPS for the current K\n",
    "    wcps = 0\n",
    "    for k in range(K):\n",
    "        cluster_points = X[cluster_labels == k]\n",
    "        wcps += np.sum([distance(p, centroids[k]) for p in cluster_points])\n",
    "\n",
    "    # Store the WCPS for the current K\n",
    "    wcps_values.append(wcps)\n",
    "\n",
    "    # Print or use the final centroids\n",
    "    print(f\"Final Centroids for K={K}:\")\n",
    "    print(centroids)\n",
    "\n",
    "# Plot the WCPS as K increases\n",
    "plt.plot(k_range, wcps_values, marker='o')\n",
    "plt.xlabel('Number of Clusters (K)')\n",
    "plt.ylabel('Within-Cluster Point Scatter (WCPS)')\n",
    "plt.title('WCPS Variation as K Increases')\n",
    "plt.show()"
   ]
  },
  {
   "cell_type": "code",
   "execution_count": 23,
   "id": "18218565",
   "metadata": {},
   "outputs": [
    {
     "name": "stdout",
     "output_type": "stream",
     "text": [
      "Countries in Cluster 1:\n",
      "['Belgium', 'France', 'UK']\n",
      "Countries in Cluster 2:\n",
      "['Albania', 'Bulgaria', 'Italy', 'Portugal', 'Romania', 'Spain', 'Yugoslavia']\n",
      "Countries in Cluster 3:\n",
      "['Austria', 'Denmark', 'Finland', 'Greece', 'Ireland', 'Netherlands', 'Norway', 'Poland', 'Sweden', 'Switzerland', 'USSR', 'W Germany']\n",
      "Countries in Cluster 4:\n",
      "['Czechoslovakia', 'E Germany', 'Hungary']\n"
     ]
    }
   ],
   "source": [
    "# prefer 4 clusters\n",
    "# Convert Final_Centroids to a NumPy array\n",
    "Final_Centroids = np.array([[16.3        , 8.3      ,   4.03333333 ,19.2       ],\n",
    " [ 7.25714286 , 4.41428571 , 1.7       ,  9.28571429],\n",
    " [10.21666667 , 8.85      ,  3.33333333 ,22.65833333],\n",
    " [ 7.8      ,  11.8       ,  3.13333333 ,11.1       ]])\n",
    "\n",
    "# Assign each data point to the nearest centroid\n",
    "cluster_labels = np.argmin(np.array([np.sum((X - centroid) ** 2, axis=1) for centroid in Final_Centroids]), axis=0)\n",
    "\n",
    "# Initialize a list to store countries for each cluster\n",
    "cluster_countries = [[] for _ in range(Final_Centroids.shape[0])]\n",
    "\n",
    "# Populate the cluster_countries list\n",
    "for i, country in enumerate(all_countries):\n",
    "    cluster_countries[cluster_labels[i]].append(country)\n",
    "\n",
    "# Print the cluster countries for K=4\n",
    "for k, countries in enumerate(cluster_countries):\n",
    "    print(f'Countries in Cluster {k + 1}:')\n",
    "    print(countries)"
   ]
  },
  {
   "cell_type": "code",
   "execution_count": null,
   "id": "9baf5911",
   "metadata": {},
   "outputs": [],
   "source": []
  }
 ],
 "metadata": {
  "kernelspec": {
   "display_name": "Python 3 (ipykernel)",
   "language": "python",
   "name": "python3"
  },
  "language_info": {
   "codemirror_mode": {
    "name": "ipython",
    "version": 3
   },
   "file_extension": ".py",
   "mimetype": "text/x-python",
   "name": "python",
   "nbconvert_exporter": "python",
   "pygments_lexer": "ipython3",
   "version": "3.9.13"
  }
 },
 "nbformat": 4,
 "nbformat_minor": 5
}
